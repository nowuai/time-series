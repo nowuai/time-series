{
 "cells": [
  {
   "cell_type": "code",
   "execution_count": 15,
   "id": "4846038f",
   "metadata": {
    "ExecuteTime": {
     "end_time": "2021-12-27T03:32:23.328726Z",
     "start_time": "2021-12-27T03:32:22.180776Z"
    }
   },
   "outputs": [],
   "source": [
    "import numpy as np\n",
    "import pandas as pd\n",
    "import warnings\n",
    "warnings.filterwarnings(\"ignore\")\n",
    "import jqdatasdk\n",
    "# 登录聚宽账号\n",
    "from jqdatasdk import *\n",
    "# auth('ID','Password') #ID是申请时所填写的手机号；Password为聚宽官网登录密码\n",
    "auth('18826575756', 'Zyh20010612')\n",
    "import matplotlib.pyplot as plt"
   ]
  },
  {
   "cell_type": "code",
   "execution_count": 16,
   "id": "2dc599f0",
   "metadata": {
    "ExecuteTime": {
     "end_time": "2021-12-27T03:32:23.971023Z",
     "start_time": "2021-12-27T03:32:23.965005Z"
    }
   },
   "outputs": [],
   "source": [
    "def get_ori_data(code,start,end,fque):         #根据单个代码获取收益率\n",
    "    ori_data = get_price(code, start_date = start, end_date=end, frequency=fque, fields=['open','close','high','low','volume','money'], skip_paused=False, fq='pre', panel=True)\n",
    "    return ori_data"
   ]
  },
  {
   "cell_type": "code",
   "execution_count": 17,
   "id": "e5d7ef2b",
   "metadata": {
    "ExecuteTime": {
     "end_time": "2021-12-27T03:32:25.298471Z",
     "start_time": "2021-12-27T03:32:25.185756Z"
    }
   },
   "outputs": [],
   "source": [
    "a = pd.read_excel(r'C:\\\\Users\\\\DELL\\\\Desktop\\\\行业定义.xlsx')"
   ]
  },
  {
   "cell_type": "code",
   "execution_count": 18,
   "id": "8aad701a",
   "metadata": {
    "ExecuteTime": {
     "end_time": "2021-12-27T03:32:25.766287Z",
     "start_time": "2021-12-27T03:32:25.759312Z"
    }
   },
   "outputs": [],
   "source": [
    "a = a.rename(columns={'Unnamed: 0':'股票名字'})\n",
    "a = a.drop(labels='label',axis=1)\n",
    "name = a['股票名字'].tolist()\n",
    "code = a['code'].tolist()"
   ]
  },
  {
   "cell_type": "code",
   "execution_count": 14,
   "id": "a24a794f",
   "metadata": {
    "ExecuteTime": {
     "end_time": "2021-12-26T11:18:41.399422Z",
     "start_time": "2021-12-26T11:18:39.509838Z"
    }
   },
   "outputs": [
    {
     "name": "stdout",
     "output_type": "stream",
     "text": [
      "请输入股票名称或者代码来进行查询:\n",
      "\n"
     ]
    },
    {
     "ename": "KeyboardInterrupt",
     "evalue": "Interrupted by user",
     "output_type": "error",
     "traceback": [
      "\u001b[1;31m---------------------------------------------------------------------------\u001b[0m",
      "\u001b[1;31mKeyboardInterrupt\u001b[0m                         Traceback (most recent call last)",
      "\u001b[1;32m~\\AppData\\Local\\Temp/ipykernel_16876/578197808.py\u001b[0m in \u001b[0;36m<module>\u001b[1;34m\u001b[0m\n\u001b[0;32m      1\u001b[0m \u001b[0mprint\u001b[0m\u001b[1;33m(\u001b[0m\u001b[1;34m'请输入股票名称或者代码来进行查询:\\n'\u001b[0m\u001b[1;33m)\u001b[0m\u001b[1;33m\u001b[0m\u001b[1;33m\u001b[0m\u001b[0m\n\u001b[1;32m----> 2\u001b[1;33m \u001b[0mc\u001b[0m \u001b[1;33m=\u001b[0m \u001b[0minput\u001b[0m\u001b[1;33m(\u001b[0m\u001b[1;33m)\u001b[0m\u001b[1;33m\u001b[0m\u001b[1;33m\u001b[0m\u001b[0m\n\u001b[0m\u001b[0;32m      3\u001b[0m \u001b[0mprint\u001b[0m\u001b[1;33m(\u001b[0m\u001b[1;34m'-----------------------------------'\u001b[0m\u001b[1;33m)\u001b[0m\u001b[1;33m\u001b[0m\u001b[1;33m\u001b[0m\u001b[0m\n\u001b[0;32m      4\u001b[0m \u001b[1;32mif\u001b[0m \u001b[0mc\u001b[0m \u001b[1;32min\u001b[0m \u001b[0mname\u001b[0m\u001b[1;33m:\u001b[0m\u001b[1;33m\u001b[0m\u001b[1;33m\u001b[0m\u001b[0m\n\u001b[0;32m      5\u001b[0m     \u001b[0mfinal\u001b[0m \u001b[1;33m=\u001b[0m \u001b[0ma\u001b[0m\u001b[1;33m[\u001b[0m\u001b[0ma\u001b[0m\u001b[1;33m[\u001b[0m\u001b[1;34m'股票名字'\u001b[0m\u001b[1;33m]\u001b[0m \u001b[1;33m==\u001b[0m \u001b[0mc\u001b[0m\u001b[1;33m]\u001b[0m\u001b[1;33m\u001b[0m\u001b[1;33m\u001b[0m\u001b[0m\n",
      "\u001b[1;32mD:\\anaconda\\lib\\site-packages\\ipykernel\\kernelbase.py\u001b[0m in \u001b[0;36mraw_input\u001b[1;34m(self, prompt)\u001b[0m\n\u001b[0;32m   1004\u001b[0m                 \u001b[1;34m\"raw_input was called, but this frontend does not support input requests.\"\u001b[0m\u001b[1;33m\u001b[0m\u001b[1;33m\u001b[0m\u001b[0m\n\u001b[0;32m   1005\u001b[0m             )\n\u001b[1;32m-> 1006\u001b[1;33m         return self._input_request(\n\u001b[0m\u001b[0;32m   1007\u001b[0m             \u001b[0mstr\u001b[0m\u001b[1;33m(\u001b[0m\u001b[0mprompt\u001b[0m\u001b[1;33m)\u001b[0m\u001b[1;33m,\u001b[0m\u001b[1;33m\u001b[0m\u001b[1;33m\u001b[0m\u001b[0m\n\u001b[0;32m   1008\u001b[0m             \u001b[0mself\u001b[0m\u001b[1;33m.\u001b[0m\u001b[0m_parent_ident\u001b[0m\u001b[1;33m[\u001b[0m\u001b[1;34m\"shell\"\u001b[0m\u001b[1;33m]\u001b[0m\u001b[1;33m,\u001b[0m\u001b[1;33m\u001b[0m\u001b[1;33m\u001b[0m\u001b[0m\n",
      "\u001b[1;32mD:\\anaconda\\lib\\site-packages\\ipykernel\\kernelbase.py\u001b[0m in \u001b[0;36m_input_request\u001b[1;34m(self, prompt, ident, parent, password)\u001b[0m\n\u001b[0;32m   1049\u001b[0m             \u001b[1;32mexcept\u001b[0m \u001b[0mKeyboardInterrupt\u001b[0m\u001b[1;33m:\u001b[0m\u001b[1;33m\u001b[0m\u001b[1;33m\u001b[0m\u001b[0m\n\u001b[0;32m   1050\u001b[0m                 \u001b[1;31m# re-raise KeyboardInterrupt, to truncate traceback\u001b[0m\u001b[1;33m\u001b[0m\u001b[1;33m\u001b[0m\u001b[1;33m\u001b[0m\u001b[0m\n\u001b[1;32m-> 1051\u001b[1;33m                 \u001b[1;32mraise\u001b[0m \u001b[0mKeyboardInterrupt\u001b[0m\u001b[1;33m(\u001b[0m\u001b[1;34m\"Interrupted by user\"\u001b[0m\u001b[1;33m)\u001b[0m \u001b[1;32mfrom\u001b[0m \u001b[1;32mNone\u001b[0m\u001b[1;33m\u001b[0m\u001b[1;33m\u001b[0m\u001b[0m\n\u001b[0m\u001b[0;32m   1052\u001b[0m             \u001b[1;32mexcept\u001b[0m \u001b[0mException\u001b[0m\u001b[1;33m:\u001b[0m\u001b[1;33m\u001b[0m\u001b[1;33m\u001b[0m\u001b[0m\n\u001b[0;32m   1053\u001b[0m                 \u001b[0mself\u001b[0m\u001b[1;33m.\u001b[0m\u001b[0mlog\u001b[0m\u001b[1;33m.\u001b[0m\u001b[0mwarning\u001b[0m\u001b[1;33m(\u001b[0m\u001b[1;34m\"Invalid Message:\"\u001b[0m\u001b[1;33m,\u001b[0m \u001b[0mexc_info\u001b[0m\u001b[1;33m=\u001b[0m\u001b[1;32mTrue\u001b[0m\u001b[1;33m)\u001b[0m\u001b[1;33m\u001b[0m\u001b[1;33m\u001b[0m\u001b[0m\n",
      "\u001b[1;31mKeyboardInterrupt\u001b[0m: Interrupted by user"
     ]
    }
   ],
   "source": [
    "print('请输入股票名称或者代码来进行查询:\\n')\n",
    "c = input()\n",
    "print('-----------------------------------')\n",
    "if c in name:\n",
    "    final = a[a['股票名字'] == c]\n",
    "    print(final)\n",
    "    b = name.index(c)\n",
    "    code_ = code[b]\n",
    "if c in code:\n",
    "    final = a[a['code'] == c]\n",
    "    print(final)\n",
    "    code_ = c\n",
    "print('请输入是否需要查询 T/F \\n')\n",
    "q = input()\n",
    "if(q == 'T'):\n",
    "    print('请输入想查询的开始时间\\n')\n",
    "    start = input()\n",
    "    print('\\n')\n",
    "    print('请输入想查询的结束时间\\n')\n",
    "    end = input()\n",
    "    print('\\n')\n",
    "    print('请输入想查询的频率(daily,minute)\\n')\n",
    "    fque = input()\n",
    "    print('\\n')\n",
    "    print('输出结果如下:\\n')\n",
    "    data = get_ori_data(code_,start,end,fque)\n",
    "    print(data)\n",
    "    print('\\n')\n",
    "    print('请输入是否需要画图T/F\\n')\n",
    "    xuqiu = input()\n",
    "    if(xuqiu == 'T'):\n",
    "        fig, ax = plt.subplots(figsize = (15,8))\n",
    "        ax.plot(data.index,data['close'])\n",
    "        ax.set(xlabel = 'Date',\n",
    "        ylabel = '￥',\n",
    "        title = 'price')\n",
    "        plt.show()\n",
    "    if(xuqiu == 'F'):\n",
    "        print('结束查询\\n')\n",
    "if(q == 'F'):\n",
    "    print('结束查询\\n')"
   ]
  },
  {
   "cell_type": "code",
   "execution_count": null,
   "id": "795ff1d5",
   "metadata": {},
   "outputs": [],
   "source": []
  }
 ],
 "metadata": {
  "kernelspec": {
   "display_name": "Python 3 (ipykernel)",
   "language": "python",
   "name": "python3"
  },
  "language_info": {
   "codemirror_mode": {
    "name": "ipython",
    "version": 3
   },
   "file_extension": ".py",
   "mimetype": "text/x-python",
   "name": "python",
   "nbconvert_exporter": "python",
   "pygments_lexer": "ipython3",
   "version": "3.8.11"
  },
  "toc": {
   "base_numbering": 1,
   "nav_menu": {},
   "number_sections": true,
   "sideBar": true,
   "skip_h1_title": false,
   "title_cell": "Table of Contents",
   "title_sidebar": "Contents",
   "toc_cell": false,
   "toc_position": {},
   "toc_section_display": true,
   "toc_window_display": false
  }
 },
 "nbformat": 4,
 "nbformat_minor": 5
}
